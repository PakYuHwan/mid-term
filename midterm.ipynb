{
  "nbformat": 4,
  "nbformat_minor": 0,
  "metadata": {
    "colab": {
      "name": "midterm.ipynb",
      "provenance": [],
      "authorship_tag": "ABX9TyOTwxyyW7/kkVe6HUgZp8nW",
      "include_colab_link": true
    },
    "kernelspec": {
      "name": "python3",
      "display_name": "Python 3"
    },
    "language_info": {
      "name": "python"
    }
  },
  "cells": [
    {
      "cell_type": "markdown",
      "metadata": {
        "id": "view-in-github",
        "colab_type": "text"
      },
      "source": [
        "<a href=\"https://colab.research.google.com/github/PakYuHwan/mid-term/blob/main/midterm.ipynb\" target=\"_parent\"><img src=\"https://colab.research.google.com/assets/colab-badge.svg\" alt=\"Open In Colab\"/></a>"
      ]
    },
    {
      "cell_type": "code",
      "metadata": {
        "id": "rIT3j0CfUie5"
      },
      "source": [
        ""
      ],
      "execution_count": null,
      "outputs": []
    },
    {
      "cell_type": "markdown",
      "metadata": {
        "id": "iGtBGqeBW5Qw"
      },
      "source": [
        "##코로나19 확진자 수에 따른 KOSPI주가 분석"
      ]
    },
    {
      "cell_type": "markdown",
      "metadata": {
        "id": "BxAJWIL0W6yT"
      },
      "source": [
        "#분석 목적\n",
        " 2020년 코로나 19로 인한 경제침체와 함께 주가 하락이 예상되었다. 얄팍한 경제지식으로 경기가 침체 되면 회사(+가계)에 경제적 어려움이 발생하고 이에따라 주가 하락이 당연하다고 생각했다.\n",
        "\n",
        " 하지만 최근 2020년 11월 기준으로 전 고점인 2607point를 뛰어 넘어 2021년 4월 현재 3200포인트에 가까운 수치를 기록 중이다.\n",
        "주식에 작은 돈이지만 투자를 하고 있는 현재 왜 주가가 신고가를 찍고 있는지 의문이 생겨 이를 분석해보고자 한다.\n",
        "\n",
        "여담이지만 읽은 책에서 '주식은 남들이 살 땐 팔고 남들이 팔 땐 사라'는 말을 기점으로 현 상태는 고공횡보를 달리고 있기에 팔아야 할 시점을 예상해보는데 도움이 됐으면 하는 마음에서 분석해본다.."
      ]
    },
    {
      "cell_type": "markdown",
      "metadata": {
        "id": "WP3MIRc4XP-8"
      },
      "source": [
        "데이터 불러오기"
      ]
    },
    {
      "cell_type": "code",
      "metadata": {
        "id": "u9uDsil6Uo_E"
      },
      "source": [
        ""
      ],
      "execution_count": null,
      "outputs": []
    },
    {
      "cell_type": "markdown",
      "metadata": {
        "id": "s0OPCg2XW29s"
      },
      "source": [
        ""
      ]
    },
    {
      "cell_type": "code",
      "metadata": {
        "id": "d8RV_jHeWxcH"
      },
      "source": [
        ""
      ],
      "execution_count": null,
      "outputs": []
    }
  ]
}